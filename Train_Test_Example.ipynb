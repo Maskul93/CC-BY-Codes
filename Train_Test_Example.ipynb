{
 "cells": [
  {
   "cell_type": "code",
   "execution_count": 1,
   "id": "b4fab97f-35c5-4509-8e4f-90bc6b7e9ee9",
   "metadata": {},
   "outputs": [],
   "source": [
    "import pandas as pd\n",
    "import numpy as np"
   ]
  },
  {
   "cell_type": "code",
   "execution_count": 2,
   "id": "9481a810-5d5a-498f-89be-f5901dfb7380",
   "metadata": {},
   "outputs": [
    {
     "data": {
      "text/html": [
       "<div>\n",
       "<style scoped>\n",
       "    .dataframe tbody tr th:only-of-type {\n",
       "        vertical-align: middle;\n",
       "    }\n",
       "\n",
       "    .dataframe tbody tr th {\n",
       "        vertical-align: top;\n",
       "    }\n",
       "\n",
       "    .dataframe thead th {\n",
       "        text-align: right;\n",
       "    }\n",
       "</style>\n",
       "<table border=\"1\" class=\"dataframe\">\n",
       "  <thead>\n",
       "    <tr style=\"text-align: right;\">\n",
       "      <th></th>\n",
       "      <th>Mark</th>\n",
       "      <th>Hours</th>\n",
       "      <th>Age</th>\n",
       "    </tr>\n",
       "  </thead>\n",
       "  <tbody>\n",
       "    <tr>\n",
       "      <th>0</th>\n",
       "      <td>60</td>\n",
       "      <td>10</td>\n",
       "      <td>10</td>\n",
       "    </tr>\n",
       "    <tr>\n",
       "      <th>1</th>\n",
       "      <td>75</td>\n",
       "      <td>13</td>\n",
       "      <td>12</td>\n",
       "    </tr>\n",
       "    <tr>\n",
       "      <th>2</th>\n",
       "      <td>100</td>\n",
       "      <td>15</td>\n",
       "      <td>14</td>\n",
       "    </tr>\n",
       "    <tr>\n",
       "      <th>3</th>\n",
       "      <td>49</td>\n",
       "      <td>7</td>\n",
       "      <td>12</td>\n",
       "    </tr>\n",
       "    <tr>\n",
       "      <th>4</th>\n",
       "      <td>20</td>\n",
       "      <td>0</td>\n",
       "      <td>11</td>\n",
       "    </tr>\n",
       "  </tbody>\n",
       "</table>\n",
       "</div>"
      ],
      "text/plain": [
       "   Mark  Hours  Age\n",
       "0    60     10   10\n",
       "1    75     13   12\n",
       "2   100     15   14\n",
       "3    49      7   12\n",
       "4    20      0   11"
      ]
     },
     "execution_count": 2,
     "metadata": {},
     "output_type": "execute_result"
    }
   ],
   "source": [
    "df = pd.read_csv('./data/Students_Dataset.csv')\n",
    "X = df[['Hours', 'Age']]\n",
    "y = df['Mark']\n",
    "\n",
    "df.head()"
   ]
  },
  {
   "cell_type": "code",
   "execution_count": 3,
   "id": "7b250170-5a0e-4b6a-bba3-0a4306f9162e",
   "metadata": {},
   "outputs": [
    {
     "name": "stdout",
     "output_type": "stream",
     "text": [
      "MAE of the whole dataset is 14.45 (r = 0.74)\n"
     ]
    }
   ],
   "source": [
    "from sklearn.linear_model import LinearRegression\n",
    "\n",
    "reg = LinearRegression().fit(X, y)\n",
    "y_hat = reg.predict(X)\n",
    "\n",
    "r_whole = np.corrcoef(y,y_hat)[0,1]\n",
    "print('MAE of the whole dataset is %.2f (r = %.2f)' % (np.mean(np.abs(y-y_hat)), r_whole))"
   ]
  },
  {
   "cell_type": "code",
   "execution_count": 4,
   "id": "a7bb7025-b282-4448-91ac-c16b60a4e19c",
   "metadata": {},
   "outputs": [
    {
     "name": "stdout",
     "output_type": "stream",
     "text": [
      "MAE of the Train-Set is 14.91 (r = 0.69)\n",
      "MAE of the Test-Set is 12.54 (r = 0.89)\n"
     ]
    }
   ],
   "source": [
    "from sklearn.model_selection import train_test_split\n",
    "\n",
    "X_train, X_test, y_train, y_test = train_test_split(X, y, train_size=0.8, random_state=42)\n",
    "\n",
    "reg = LinearRegression().fit(X_train, y_train)\n",
    "y_hat_train = reg.predict(X_train)\n",
    "r_train = np.corrcoef(y_hat_train, y_train)[0,1]\n",
    "\n",
    "y_hat_test = reg.predict(X_test)\n",
    "r_test = np.corrcoef(y_hat_test, y_test)[0,1]\n",
    "\n",
    "# Mean Absolute Error comparison between train and test predictions\n",
    "print('MAE of the Train-Set is %.2f (r = %.2f)' % (np.mean(np.abs(y_train-y_hat_train)), r_train))\n",
    "print('MAE of the Test-Set is %.2f (r = %.2f)' % (np.mean(np.abs(y_test-y_hat_test)), r_test))"
   ]
  }
 ],
 "metadata": {
  "kernelspec": {
   "display_name": "Python 3 (ipykernel)",
   "language": "python",
   "name": "python3"
  },
  "language_info": {
   "codemirror_mode": {
    "name": "ipython",
    "version": 3
   },
   "file_extension": ".py",
   "mimetype": "text/x-python",
   "name": "python",
   "nbconvert_exporter": "python",
   "pygments_lexer": "ipython3",
   "version": "3.11.2"
  }
 },
 "nbformat": 4,
 "nbformat_minor": 5
}
