{
 "cells": [
  {
   "cell_type": "code",
   "execution_count": 1,
   "id": "9a136db5-f0a3-403e-920b-4f3639fac154",
   "metadata": {},
   "outputs": [],
   "source": [
    "# Load required modules\n",
    "import numpy as np\n",
    "import pandas as pd\n",
    "\n",
    "# The specific kind of model I used\n",
    "from sklearn.neural_network import MLPRegressor\n",
    "# Required for loading the previously saved model\n",
    "import pickle\n",
    "\n",
    "import warnings\n",
    "warnings.filterwarnings('ignore')"
   ]
  },
  {
   "cell_type": "code",
   "execution_count": 2,
   "id": "b258deb9-a7a1-4ed6-8997-f3c7567ae2af",
   "metadata": {},
   "outputs": [],
   "source": [
    "# Define Mean Squared Error for PFI\n",
    "def MeSqEr(y, y_hat):\n",
    "    n = y.shape[0]\n",
    "    SE = np.zeros_like(y)\n",
    "    for j in range(0, n):\n",
    "        SE[j] = (y[j] - y_hat[j]) ** 2\n",
    "\n",
    "    return np.sum(SE) / n"
   ]
  },
  {
   "cell_type": "code",
   "execution_count": 3,
   "id": "8d07aab1-2680-4b58-a54e-67a5b2c3d8b0",
   "metadata": {},
   "outputs": [
    {
     "data": {
      "text/plain": [
       "1.6796875"
      ]
     },
     "execution_count": 3,
     "metadata": {},
     "output_type": "execute_result"
    }
   ],
   "source": [
    "db = pd.read_csv('./data/PFI_db.csv')\n",
    "\n",
    "y = db['y'] # Isolate Target Output\n",
    "X = db.drop('y', axis = 1) # Remove Target Output from db\n",
    "\n",
    "# Load the previously trained model\n",
    "f_hat = pickle.load(open('./data/PFI_model.sav', 'rb'))\n",
    "\n",
    "# Predict The reference MSE for the trained model\n",
    "y_hat_0 = f_hat.predict(X)\n",
    "MSE_0 = MeSqEr(y, y_hat_0)\n",
    "MSE_0"
   ]
  },
  {
   "cell_type": "code",
   "execution_count": 4,
   "id": "93c5ef68-ff43-447c-b095-5b220d55bb17",
   "metadata": {},
   "outputs": [],
   "source": [
    "def PFI(X, y, MSE_0, f_hat):\n",
    "\n",
    "    col = list(X.columns) # store feature names\n",
    "    L = int(y.shape[0] / 2) # extract the 'half-length' index\n",
    "    MSE, FI = np.zeros(len(col)), np.zeros(len(col)) # pre-allocate the MSE and FI arrays\n",
    "    idx = 0\n",
    "\n",
    "    for c in col:\n",
    "\n",
    "        X_p = X.copy() # Clone the original db\n",
    "\n",
    "        p1 = X.loc[0:L, c] # First Partition\n",
    "        p2 = X.loc[L+1:, c] # Second Partition\n",
    "\n",
    "        X_p[c] = pd.concat([p2, p1], ignore_index=True) # Permute the partitions\n",
    "        y_hat = f_hat.predict(X_p) # Predict the value with the permuted db\n",
    "        MSE[idx] = MeSqEr(y, y_hat) # Compute new MSE\n",
    "        FI[idx] = MSE[idx] / MSE_0 # Compute FI\n",
    "\n",
    "        idx += 1\n",
    "\n",
    "    # This is for having an already ordered PFI outcome\n",
    "    PFI_dict = {'Feature': col, 'MSE': MSE, 'FI': FI}\n",
    "    PFI_df = pd.DataFrame(PFI_dict).sort_values(by=['FI'], ascending=False, ignore_index=True)\n",
    "\n",
    "    return PFI_df"
   ]
  },
  {
   "cell_type": "code",
   "execution_count": 5,
   "id": "326447bd-00cc-4c20-ab91-a5f6b5b93baa",
   "metadata": {},
   "outputs": [
    {
     "data": {
      "text/html": [
       "<div>\n",
       "<style scoped>\n",
       "    .dataframe tbody tr th:only-of-type {\n",
       "        vertical-align: middle;\n",
       "    }\n",
       "\n",
       "    .dataframe tbody tr th {\n",
       "        vertical-align: top;\n",
       "    }\n",
       "\n",
       "    .dataframe thead th {\n",
       "        text-align: right;\n",
       "    }\n",
       "</style>\n",
       "<table border=\"1\" class=\"dataframe\">\n",
       "  <thead>\n",
       "    <tr style=\"text-align: right;\">\n",
       "      <th></th>\n",
       "      <th>Feature</th>\n",
       "      <th>MSE</th>\n",
       "      <th>FI</th>\n",
       "    </tr>\n",
       "  </thead>\n",
       "  <tbody>\n",
       "    <tr>\n",
       "      <th>0</th>\n",
       "      <td>e</td>\n",
       "      <td>21.101562</td>\n",
       "      <td>12.562791</td>\n",
       "    </tr>\n",
       "    <tr>\n",
       "      <th>1</th>\n",
       "      <td>J</td>\n",
       "      <td>20.398438</td>\n",
       "      <td>12.144186</td>\n",
       "    </tr>\n",
       "    <tr>\n",
       "      <th>2</th>\n",
       "      <td>F</td>\n",
       "      <td>16.390625</td>\n",
       "      <td>9.758140</td>\n",
       "    </tr>\n",
       "    <tr>\n",
       "      <th>3</th>\n",
       "      <td>h</td>\n",
       "      <td>12.914062</td>\n",
       "      <td>7.688372</td>\n",
       "    </tr>\n",
       "    <tr>\n",
       "      <th>4</th>\n",
       "      <td>q</td>\n",
       "      <td>12.226562</td>\n",
       "      <td>7.279070</td>\n",
       "    </tr>\n",
       "  </tbody>\n",
       "</table>\n",
       "</div>"
      ],
      "text/plain": [
       "  Feature        MSE         FI\n",
       "0       e  21.101562  12.562791\n",
       "1       J  20.398438  12.144186\n",
       "2       F  16.390625   9.758140\n",
       "3       h  12.914062   7.688372\n",
       "4       q  12.226562   7.279070"
      ]
     },
     "execution_count": 5,
     "metadata": {},
     "output_type": "execute_result"
    }
   ],
   "source": [
    "PFI_df = PFI(X, y, MSE_0, f_hat)\n",
    "PFI_df.head()"
   ]
  }
 ],
 "metadata": {
  "kernelspec": {
   "display_name": "Python 3 (ipykernel)",
   "language": "python",
   "name": "python3"
  },
  "language_info": {
   "codemirror_mode": {
    "name": "ipython",
    "version": 3
   },
   "file_extension": ".py",
   "mimetype": "text/x-python",
   "name": "python",
   "nbconvert_exporter": "python",
   "pygments_lexer": "ipython3",
   "version": "3.11.2"
  }
 },
 "nbformat": 4,
 "nbformat_minor": 5
}
